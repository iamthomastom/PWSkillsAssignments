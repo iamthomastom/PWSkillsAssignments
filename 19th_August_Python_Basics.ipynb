{
 "cells": [
  {
   "cell_type": "markdown",
   "id": "9adac295-3168-4f77-8bf5-72b4893bfccc",
   "metadata": {},
   "source": [
    "Python Basics variable - First Question"
   ]
  },
  {
   "cell_type": "code",
   "execution_count": 8,
   "id": "d0845638-6a06-4147-be2b-7f49e7901e19",
   "metadata": {},
   "outputs": [],
   "source": [
    "x,y = 15,20 #Assigning x=15 and y=20"
   ]
  },
  {
   "cell_type": "code",
   "execution_count": 9,
   "id": "ef878da2-3a1a-48c4-adca-665e2a17eb93",
   "metadata": {},
   "outputs": [],
   "source": [
    "y,x = 15,20 #Swapping"
   ]
  },
  {
   "cell_type": "code",
   "execution_count": 10,
   "id": "9468111c-be5d-49d3-a960-6983532dfb86",
   "metadata": {},
   "outputs": [
    {
     "data": {
      "text/plain": [
       "20"
      ]
     },
     "execution_count": 10,
     "metadata": {},
     "output_type": "execute_result"
    }
   ],
   "source": [
    "x"
   ]
  },
  {
   "cell_type": "code",
   "execution_count": 11,
   "id": "e352977b-ffb5-4ba4-aa58-00488fdab65d",
   "metadata": {},
   "outputs": [
    {
     "data": {
      "text/plain": [
       "15"
      ]
     },
     "execution_count": 11,
     "metadata": {},
     "output_type": "execute_result"
    }
   ],
   "source": [
    "y"
   ]
  },
  {
   "cell_type": "markdown",
   "id": "7557c06a-52ed-4232-88c2-83bee5977b28",
   "metadata": {},
   "source": [
    "Second Question"
   ]
  },
  {
   "cell_type": "code",
   "execution_count": 18,
   "id": "088d599a-4839-4089-b489-0ae6cb1b0987",
   "metadata": {},
   "outputs": [
    {
     "name": "stdin",
     "output_type": "stream",
     "text": [
      "Enter the Lenght:  15\n",
      "Enter the Width:  10\n"
     ]
    },
    {
     "name": "stdout",
     "output_type": "stream",
     "text": [
      "Area of Rectangle is 150\n"
     ]
    }
   ],
   "source": [
    "length = int(input(\"Enter the Lenght: \"))\n",
    "width = int(input(\"Enter the Width: \"))  #getting len and wid from user\n",
    "\n",
    "Area =  length * width  #Calculating Area\n",
    "print(\"Area of Rectangle is\",Area)  #Printing Area"
   ]
  },
  {
   "cell_type": "markdown",
   "id": "63429134-a0d3-432f-ac50-423ad3262ae5",
   "metadata": {},
   "source": [
    "Third Question"
   ]
  },
  {
   "cell_type": "code",
   "execution_count": 24,
   "id": "12d3de10-8ac4-4b02-a2cc-1a20c950ff3c",
   "metadata": {},
   "outputs": [
    {
     "name": "stdin",
     "output_type": "stream",
     "text": [
      "Give temperature in celcius:  32\n"
     ]
    },
    {
     "name": "stdout",
     "output_type": "stream",
     "text": [
      "Temp in Farenheit is 89.6\n"
     ]
    }
   ],
   "source": [
    "Celcius_temp = int(input(\"Give temperature in celcius: \")) #Taking temp in celcius\n",
    "Farenheit_temp = (9/5)*Celcius_temp+32 #Converting Celcius to Farenheit\n",
    "print(\"Temp in Farenheit is\", Farenheit_temp) #Printing temp in Farenheit"
   ]
  },
  {
   "cell_type": "markdown",
   "id": "9b4157fa-5811-458c-9aa2-f80e69f57369",
   "metadata": {},
   "source": [
    "String Based Questions - First Question"
   ]
  },
  {
   "cell_type": "code",
   "execution_count": 29,
   "id": "aa3fa725-7821-4f4a-a31e-f6dc345d19e6",
   "metadata": {},
   "outputs": [
    {
     "name": "stdin",
     "output_type": "stream",
     "text": [
      "Enter a string:  Thomas\n"
     ]
    },
    {
     "name": "stdout",
     "output_type": "stream",
     "text": [
      "6\n"
     ]
    }
   ],
   "source": [
    "string1 = input(\"Enter a string: \") #Taking a string from user\n",
    "print(len(string1))    #Printing len of string     "
   ]
  },
  {
   "cell_type": "markdown",
   "id": "def549a6-432f-40cd-a4f7-a995cda8a990",
   "metadata": {},
   "source": [
    "Second Question"
   ]
  },
  {
   "cell_type": "code",
   "execution_count": 40,
   "id": "5f700b72-9d04-4cd3-9b8b-e9a6af1bbfd2",
   "metadata": {},
   "outputs": [
    {
     "name": "stdin",
     "output_type": "stream",
     "text": [
      "Enter a string:  Thomas\n"
     ]
    },
    {
     "name": "stdout",
     "output_type": "stream",
     "text": [
      "Total number of vowels: 2\n"
     ]
    }
   ],
   "source": [
    "string2 = input(\"Enter a string: \")  #Taking a string from the user\n",
    "vowels = \"aeiouAEIOU\"\n",
    "total_vowels = 0  #Take a variable to store the total count\n",
    "\n",
    "for i in vowels:\n",
    "    Number_of_vowels = string2.count(i)\n",
    "    total_vowels += Number_of_vowels  # Add the counts of each vowel\n",
    "\n",
    "# Print the total count of vowels\n",
    "print(\"Total number of vowels:\", total_vowels)\n"
   ]
  },
  {
   "cell_type": "markdown",
   "id": "f3623d44-131c-43e7-a23f-74e4510b9300",
   "metadata": {},
   "source": [
    "Third Question"
   ]
  },
  {
   "cell_type": "code",
   "execution_count": 47,
   "id": "4c7d9103-d776-47e7-a172-3e83e116d4aa",
   "metadata": {},
   "outputs": [
    {
     "name": "stdin",
     "output_type": "stream",
     "text": [
      "Enter a string:  Thomas\n"
     ]
    },
    {
     "name": "stdout",
     "output_type": "stream",
     "text": [
      "samohT\n"
     ]
    }
   ],
   "source": [
    "string3 = input(\"Enter a string: \")  #Taking a string from the user\n",
    "reversed_string = string3[::-1]  #Reversing the string using slicing\n",
    "print(reversed_string) #Printing the reversed string"
   ]
  },
  {
   "cell_type": "markdown",
   "id": "50e9e6b2-2641-4950-ab56-0402aa082e29",
   "metadata": {},
   "source": [
    "Fourth Question"
   ]
  },
  {
   "cell_type": "code",
   "execution_count": 60,
   "id": "1bce2b10-f1d7-4634-8314-e2867b8ab8ce",
   "metadata": {},
   "outputs": [
    {
     "name": "stdin",
     "output_type": "stream",
     "text": [
      "Enter a string:  Malayalam\n"
     ]
    },
    {
     "name": "stdout",
     "output_type": "stream",
     "text": [
      "Given String is Palindrome\n"
     ]
    }
   ],
   "source": [
    "string4 = input(\"Enter a string: \") #Taking input from user\n",
    "\n",
    "string4_cleaned  = string4.replace(\" \",\"\").lower() #deleting spaces and converting to lower case\n",
    "string4_reversed = string4_cleaned[::-1]   #Creating a new variable and storing reversed version of cleaned user input string\n",
    "\n",
    "if string4_cleaned == string4_reversed:\n",
    "    print(\"Given String is Palindrome\")    #Condition to check if it is palindrome or not\n",
    "else:\n",
    "    print(\"Not a palindrome\")"
   ]
  },
  {
   "cell_type": "markdown",
   "id": "ed2701b1-7dee-4a2e-bf90-68a06c799d27",
   "metadata": {},
   "source": [
    "Fifth Question"
   ]
  },
  {
   "cell_type": "code",
   "execution_count": 65,
   "id": "3557c34d-5c2d-4165-81d8-8cbb261a5620",
   "metadata": {},
   "outputs": [
    {
     "name": "stdin",
     "output_type": "stream",
     "text": [
      "Enter a string:  Thomas Tom\n"
     ]
    },
    {
     "name": "stdout",
     "output_type": "stream",
     "text": [
      "ThomasTom\n"
     ]
    }
   ],
   "source": [
    "string5 = input(\"Enter a string: \") #Taking input from user\n",
    "cleaned_string = \"\"  #Creating a variable to store the cleaned string\n",
    "\n",
    "for char in string5:    #Looping through string to find spaces\n",
    "    if char != \" \":\n",
    "        cleaned_string += char     #Adding char to cleaned_string other than spaces\n",
    "print(cleaned_string)       #Printing new string "
   ]
  },
  {
   "cell_type": "markdown",
   "id": "bd138abd-001f-4548-8209-a30b5b2b0673",
   "metadata": {},
   "source": [
    "Thank You!!! :)"
   ]
  }
 ],
 "metadata": {
  "kernelspec": {
   "display_name": "Python 3 (ipykernel)",
   "language": "python",
   "name": "python3"
  },
  "language_info": {
   "codemirror_mode": {
    "name": "ipython",
    "version": 3
   },
   "file_extension": ".py",
   "mimetype": "text/x-python",
   "name": "python",
   "nbconvert_exporter": "python",
   "pygments_lexer": "ipython3",
   "version": "3.10.8"
  }
 },
 "nbformat": 4,
 "nbformat_minor": 5
}
